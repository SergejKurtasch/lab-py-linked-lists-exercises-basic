{
 "cells": [
  {
   "cell_type": "markdown",
   "metadata": {},
   "source": [
    "## LAB | PY Linked Lists Exercises (Basic)"
   ]
  },
  {
   "cell_type": "markdown",
   "metadata": {},
   "source": [
    "\n",
    "This exercise notebook will help you practice working with linked lists in Python. You will write programs to implement various linked list operations, enhancing your understanding of data structures.\n"
   ]
  },
  {
   "cell_type": "markdown",
   "metadata": {},
   "source": [
    "\n",
    "## Instructions\n"
   ]
  },
  {
   "cell_type": "markdown",
   "metadata": {},
   "source": [
    "\n",
    "- Complete each exercise by writing the appropriate Python code.\n",
    "- Test your code to ensure it behaves as expected.\n"
   ]
  },
  {
   "cell_type": "markdown",
   "metadata": {},
   "source": [
    "\n",
    "### Exercise 1: Create a Linked List\n"
   ]
  },
  {
   "cell_type": "markdown",
   "metadata": {},
   "source": [
    "\n",
    "Write a Python program to create a linked list and display its elements.\n",
    "\n",
    "---\n"
   ]
  },
  {
   "cell_type": "code",
   "execution_count": 1,
   "metadata": {},
   "outputs": [],
   "source": [
    "# Write your code HERE\n",
    "class Node:\n",
    "    def __init__(self, data):\n",
    "        self.data = data\n",
    "        self.next = None  # Reference to the next node\n",
    "\n",
    "# LinkedList class manages the nodes and operations of the linked list\n",
    "class LList:\n",
    "    def __init__(self):\n",
    "        self.head = None  # Initialize an empty linked list\n",
    "\n",
    "    def append(self, data):\n",
    "        new_node = Node(data)\n",
    "        if not self.head:\n",
    "            self.head = new_node\n",
    "            return\n",
    "        last_node = self.head\n",
    "        while last_node.next:\n",
    "            last_node = last_node.next\n",
    "        last_node.next = new_node\n",
    "        \n",
    "    def print_list(self):\n",
    "        current_node = self.head\n",
    "        while current_node:\n",
    "            print(current_node.data, end=\" -> \")\n",
    "            current_node = current_node.next\n",
    "        print(\"None\")\n",
    "\n",
    "    def prepend(self, data):\n",
    "        new_node = Node(data)\n",
    "        if self.head is None:\n",
    "            self.head = new_node\n",
    "        else:\n",
    "            new_node.next = self.head\n",
    "            self.head = new_node\n",
    "\n",
    "    def insert_after_value(self, data, value):\n",
    "        new_node = Node(data)\n",
    "        current_node = self.head\n",
    "        \n",
    "        while current_node:\n",
    "            if current_node.data == value:\n",
    "                new_node.next = current_node.next\n",
    "                current_node.next = new_node\n",
    "                return\n",
    "            current_node = current_node.next\n",
    "        \n",
    "        print(f\"The Node with value {value} wasn't found in the list\")\n",
    "\n",
    "    def delete_by_value(self, value):\n",
    "        current_node = self.head\n",
    "\n",
    "        # Case 1: Delete head node\n",
    "        if current_node and current_node.data == value:\n",
    "            self.head = current_node.next\n",
    "            return\n",
    "\n",
    "        # Case 2: Delete other node\n",
    "        previous_node = None\n",
    "        while current_node and current_node.data != value:\n",
    "            previous_node = current_node\n",
    "            current_node = current_node.next\n",
    "\n",
    "        if current_node is None:\n",
    "            print(f\"Node with value {value} not found\")\n",
    "            return\n",
    "        previous_node.next = current_node.next\n",
    "\n",
    "    def reverse_list(self):\n",
    "        if self.head is None or self.head.next is None:\n",
    "            return\n",
    "\n",
    "        # Traverse to the second last node\n",
    "        prev_node = None\n",
    "        current_node = self.head\n",
    "        \n",
    "        while current_node:\n",
    "            next_node = current_node.next\n",
    "            current_node.next = prev_node\n",
    "            prev_node = current_node\n",
    "            current_node = next_node\n",
    "\n",
    "\n",
    "        self.head = prev_node\n",
    "\n",
    "\n",
    "def delete_by_value(self, value):\n",
    "        current = self.head\n",
    "        previous = None\n",
    "\n",
    "        # Case 1: delete the first element\n",
    "        if current and current.data == value:\n",
    "            self.head = current.next\n",
    "            return True  # return True if the element was found and deleted\n",
    "\n",
    "        # Case 2: delete a non-first element\n",
    "        while current and current.data != value:\n",
    "            previous = current\n",
    "            current = current.next\n",
    "\n",
    "        # If the element is not found\n",
    "        if current is None:\n",
    "            print(f\"Element with value {value} not found in the list.\")\n",
    "            return False  # return False if the element was not found\n",
    "\n",
    "        # Delete the element\n",
    "        previous.next = current.next\n",
    "        return True  # return True if the element was found and deleted\n"
   ]
  },
  {
   "cell_type": "markdown",
   "metadata": {},
   "source": [
    "\n",
    "### Exercise 2: Append a Node\n",
    "\n",
    "Write a Python program to append a new node at the end of a linked list and display the updated list.\n",
    "\n",
    "---\n"
   ]
  },
  {
   "cell_type": "code",
   "execution_count": 2,
   "metadata": {},
   "outputs": [
    {
     "name": "stdout",
     "output_type": "stream",
     "text": [
      "10 -> 20 -> 30 -> None\n"
     ]
    }
   ],
   "source": [
    "# Write your code HERE\n",
    "llist = LList()\n",
    "llist.append(10)\n",
    "llist.append(20)\n",
    "llist.append(30)\n",
    "llist.print_list()"
   ]
  },
  {
   "cell_type": "code",
   "execution_count": 3,
   "metadata": {},
   "outputs": [
    {
     "name": "stdout",
     "output_type": "stream",
     "text": [
      "10 -> 20 -> 30 -> 40 -> None\n"
     ]
    }
   ],
   "source": [
    "llist.append(40)\n",
    "llist.print_list()"
   ]
  },
  {
   "cell_type": "markdown",
   "metadata": {},
   "source": [
    "\n",
    "### Exercise 3: Prepend a Node\n",
    "\n",
    "Write a Python program to prepend a new node at the beginning of a linked list and display the updated list.\n",
    "\n",
    "---\n"
   ]
  },
  {
   "cell_type": "code",
   "execution_count": 4,
   "metadata": {},
   "outputs": [
    {
     "name": "stdout",
     "output_type": "stream",
     "text": [
      "5 -> 10 -> 20 -> 30 -> 40 -> None\n"
     ]
    }
   ],
   "source": [
    "# Write your code HERE\n",
    "llist.prepend(5)\n",
    "llist.print_list()"
   ]
  },
  {
   "cell_type": "markdown",
   "metadata": {},
   "source": [
    "\n",
    "### Exercise 4: Insert a Node After a Given Node\n",
    "\n",
    "Write a Python program that inserts a new node after a specified node in the linked list and displays the updated list.\n",
    "\n",
    "---\n"
   ]
  },
  {
   "cell_type": "code",
   "execution_count": 5,
   "metadata": {},
   "outputs": [
    {
     "name": "stdout",
     "output_type": "stream",
     "text": [
      "5 -> 10 -> 20 -> 100 -> 30 -> 40 -> None\n"
     ]
    }
   ],
   "source": [
    "# Write your code HERE\n",
    "llist.insert_after_value(100, 20)\n",
    "llist.print_list()"
   ]
  },
  {
   "cell_type": "markdown",
   "metadata": {},
   "source": [
    "\n",
    "### Exercise 5: Delete a Node\n",
    "\n",
    "Write a Python program to delete a specified node from the linked list and display the updated list.\n",
    "\n",
    "---\n"
   ]
  },
  {
   "cell_type": "code",
   "execution_count": 6,
   "metadata": {},
   "outputs": [
    {
     "name": "stdout",
     "output_type": "stream",
     "text": [
      "5 -> 10 -> 20 -> 100 -> 40 -> None\n"
     ]
    }
   ],
   "source": [
    "# Write your code HERE\n",
    "llist.delete_by_value(30)\n",
    "llist.print_list()"
   ]
  },
  {
   "cell_type": "markdown",
   "metadata": {},
   "source": [
    "\n",
    "## Bonus Exercises\n"
   ]
  },
  {
   "cell_type": "markdown",
   "metadata": {},
   "source": [
    "\n",
    "### Bonus Exercise 1: Reverse a Linked List\n",
    "\n",
    "Write a Python program that reverses the linked list and displays the reversed list.\n",
    "\n",
    "---\n"
   ]
  },
  {
   "cell_type": "code",
   "execution_count": 7,
   "metadata": {},
   "outputs": [
    {
     "name": "stdout",
     "output_type": "stream",
     "text": [
      "40 -> 100 -> 20 -> 10 -> 5 -> None\n"
     ]
    }
   ],
   "source": [
    "# Write your code HERE\n",
    "llist.reverse_list()\n",
    "llist.print_list()"
   ]
  },
  {
   "cell_type": "markdown",
   "metadata": {},
   "source": [
    "\n",
    "### Bonus Exercise 2: Search for an Element\n",
    "\n",
    "Write a Python program that searches for an element in the linked list and returns its position if found.\n",
    "\n",
    "---\n"
   ]
  },
  {
   "cell_type": "code",
   "execution_count": 10,
   "metadata": {},
   "outputs": [
    {
     "name": "stdout",
     "output_type": "stream",
     "text": [
      "Node with value 100 not found\n",
      "40 -> 20 -> 10 -> 5 -> None\n",
      "Node with value 2 not found\n"
     ]
    }
   ],
   "source": [
    "# Write your code HERE\n",
    "llist.delete_by_value(100)\n",
    "llist.print_list()\n",
    "llist.delete_by_value(2)"
   ]
  },
  {
   "cell_type": "markdown",
   "metadata": {},
   "source": [
    "\n",
    "## Exercise Completion\n"
   ]
  },
  {
   "cell_type": "markdown",
   "metadata": {},
   "source": [
    "\n",
    "Once you have completed all exercises:\n",
    "\n",
    "- Review your solutions.\n",
    "- Ensure your code is well-documented with comments explaining your logic.\n",
    "- Save your notebook for submission or further review.\n",
    "\n",
    "Happy coding! Enjoy practicing Linked Lists in Python!\n"
   ]
  }
 ],
 "metadata": {
  "kernelspec": {
   "display_name": "Python 3",
   "language": "python",
   "name": "python3"
  },
  "language_info": {
   "codemirror_mode": {
    "name": "ipython",
    "version": 3
   },
   "file_extension": ".py",
   "mimetype": "text/x-python",
   "name": "python",
   "nbconvert_exporter": "python",
   "pygments_lexer": "ipython3",
   "version": "3.9.6"
  }
 },
 "nbformat": 4,
 "nbformat_minor": 2
}
